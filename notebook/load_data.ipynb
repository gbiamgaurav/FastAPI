{
 "cells": [
  {
   "cell_type": "code",
   "execution_count": 2,
   "id": "63886540",
   "metadata": {},
   "outputs": [],
   "source": [
    "import json\n",
    "import os"
   ]
  },
  {
   "cell_type": "code",
   "execution_count": 3,
   "id": "9152d3e7",
   "metadata": {},
   "outputs": [
    {
     "data": {
      "text/plain": [
       "'d:\\\\FastAPI\\\\notebook'"
      ]
     },
     "execution_count": 3,
     "metadata": {},
     "output_type": "execute_result"
    }
   ],
   "source": [
    "%pwd"
   ]
  },
  {
   "cell_type": "code",
   "execution_count": 4,
   "id": "ce52183b",
   "metadata": {},
   "outputs": [
    {
     "data": {
      "text/plain": [
       "'d:\\\\FastAPI'"
      ]
     },
     "execution_count": 4,
     "metadata": {},
     "output_type": "execute_result"
    }
   ],
   "source": [
    "os.chdir(\"..\")\n",
    "%pwd"
   ]
  },
  {
   "cell_type": "code",
   "execution_count": 5,
   "id": "2e96e1d9",
   "metadata": {},
   "outputs": [],
   "source": [
    "def load_data():\n",
    "    with open(\"patients.json\", \"r\") as f:\n",
    "        data = json.load(f)\n",
    "        return data"
   ]
  },
  {
   "cell_type": "code",
   "execution_count": 6,
   "id": "3821543e",
   "metadata": {},
   "outputs": [
    {
     "data": {
      "text/plain": [
       "[{'id': 'PID001',\n",
       "  'name': 'Aisha Sharma',\n",
       "  'age': 35,\n",
       "  'gender': 'Female',\n",
       "  'city': 'Mumbai',\n",
       "  'height': 162,\n",
       "  'weight': 75,\n",
       "  'bmi': 28.6,\n",
       "  'verdict': 'Overweight'},\n",
       " {'id': 'PID002',\n",
       "  'name': 'Rahul Verma',\n",
       "  'age': 48,\n",
       "  'gender': 'Male',\n",
       "  'city': 'Delhi',\n",
       "  'height': 175,\n",
       "  'weight': 90,\n",
       "  'bmi': 29.4,\n",
       "  'verdict': 'Overweight'},\n",
       " {'id': 'PID003',\n",
       "  'name': 'Priya Patel',\n",
       "  'age': 29,\n",
       "  'gender': 'Female',\n",
       "  'city': 'Bengaluru',\n",
       "  'height': 158,\n",
       "  'weight': 50,\n",
       "  'bmi': 20.0,\n",
       "  'verdict': 'Normal'},\n",
       " {'id': 'PID004',\n",
       "  'name': 'Suresh Kumar',\n",
       "  'age': 62,\n",
       "  'gender': 'Male',\n",
       "  'city': 'Chennai',\n",
       "  'height': 170,\n",
       "  'weight': 85,\n",
       "  'bmi': 29.4,\n",
       "  'verdict': 'Overweight'},\n",
       " {'id': 'PID005',\n",
       "  'name': 'Divya Nair',\n",
       "  'age': 22,\n",
       "  'gender': 'Female',\n",
       "  'city': 'Kolkata',\n",
       "  'height': 165,\n",
       "  'weight': 52,\n",
       "  'bmi': 19.1,\n",
       "  'verdict': 'Normal'},\n",
       " {'id': 'PID006',\n",
       "  'name': 'Amit Singh',\n",
       "  'age': 55,\n",
       "  'gender': 'Male',\n",
       "  'city': 'Hyderabad',\n",
       "  'height': 180,\n",
       "  'weight': 105,\n",
       "  'bmi': 32.4,\n",
       "  'verdict': 'Obese'},\n",
       " {'id': 'PID007',\n",
       "  'name': 'Sneha Reddy',\n",
       "  'age': 31,\n",
       "  'gender': 'Female',\n",
       "  'city': 'Pune',\n",
       "  'height': 160,\n",
       "  'weight': 48,\n",
       "  'bmi': 18.8,\n",
       "  'verdict': 'Underweight'},\n",
       " {'id': 'PID008',\n",
       "  'name': 'Vikram Joshi',\n",
       "  'age': 40,\n",
       "  'gender': 'Male',\n",
       "  'city': 'Ahmedabad',\n",
       "  'height': 178,\n",
       "  'weight': 70,\n",
       "  'bmi': 22.1,\n",
       "  'verdict': 'Normal'},\n",
       " {'id': 'PID009',\n",
       "  'name': 'Meera Menon',\n",
       "  'age': 27,\n",
       "  'gender': 'Female',\n",
       "  'city': 'Cochin',\n",
       "  'height': 155,\n",
       "  'weight': 45,\n",
       "  'bmi': 18.7,\n",
       "  'verdict': 'Underweight'},\n",
       " {'id': 'PID010',\n",
       "  'name': 'Rajesh Pillai',\n",
       "  'age': 50,\n",
       "  'gender': 'Male',\n",
       "  'city': 'Jaipur',\n",
       "  'height': 172,\n",
       "  'weight': 95,\n",
       "  'bmi': 32.1,\n",
       "  'verdict': 'Obese'}]"
      ]
     },
     "execution_count": 6,
     "metadata": {},
     "output_type": "execute_result"
    }
   ],
   "source": [
    "load_data()"
   ]
  },
  {
   "cell_type": "code",
   "execution_count": 7,
   "id": "487e1e17",
   "metadata": {},
   "outputs": [
    {
     "name": "stdout",
     "output_type": "stream",
     "text": [
      "[{'id': 'PID001', 'name': 'Aisha Sharma', 'age': 35, 'gender': 'Female', 'city': 'Mumbai', 'height': 162, 'weight': 75, 'bmi': 28.6, 'verdict': 'Overweight'}, {'id': 'PID002', 'name': 'Rahul Verma', 'age': 48, 'gender': 'Male', 'city': 'Delhi', 'height': 175, 'weight': 90, 'bmi': 29.4, 'verdict': 'Overweight'}, {'id': 'PID003', 'name': 'Priya Patel', 'age': 29, 'gender': 'Female', 'city': 'Bengaluru', 'height': 158, 'weight': 50, 'bmi': 20.0, 'verdict': 'Normal'}, {'id': 'PID004', 'name': 'Suresh Kumar', 'age': 62, 'gender': 'Male', 'city': 'Chennai', 'height': 170, 'weight': 85, 'bmi': 29.4, 'verdict': 'Overweight'}, {'id': 'PID005', 'name': 'Divya Nair', 'age': 22, 'gender': 'Female', 'city': 'Kolkata', 'height': 165, 'weight': 52, 'bmi': 19.1, 'verdict': 'Normal'}, {'id': 'PID006', 'name': 'Amit Singh', 'age': 55, 'gender': 'Male', 'city': 'Hyderabad', 'height': 180, 'weight': 105, 'bmi': 32.4, 'verdict': 'Obese'}, {'id': 'PID007', 'name': 'Sneha Reddy', 'age': 31, 'gender': 'Female', 'city': 'Pune', 'height': 160, 'weight': 48, 'bmi': 18.8, 'verdict': 'Underweight'}, {'id': 'PID008', 'name': 'Vikram Joshi', 'age': 40, 'gender': 'Male', 'city': 'Ahmedabad', 'height': 178, 'weight': 70, 'bmi': 22.1, 'verdict': 'Normal'}, {'id': 'PID009', 'name': 'Meera Menon', 'age': 27, 'gender': 'Female', 'city': 'Cochin', 'height': 155, 'weight': 45, 'bmi': 18.7, 'verdict': 'Underweight'}, {'id': 'PID010', 'name': 'Rajesh Pillai', 'age': 50, 'gender': 'Male', 'city': 'Jaipur', 'height': 172, 'weight': 95, 'bmi': 32.1, 'verdict': 'Obese'}]\n"
     ]
    }
   ],
   "source": [
    "data = load_data()\n",
    "\n",
    "print(data)"
   ]
  },
  {
   "cell_type": "code",
   "execution_count": 8,
   "id": "7ec3d57d",
   "metadata": {},
   "outputs": [],
   "source": [
    "def search(patient_id: str):\n",
    "    data = load_data()\n",
    "    for patient in data:\n",
    "        if patient[\"id\"] == patient_id:\n",
    "            return patient\n",
    "    return {\"error\": \"Patient not found\"}"
   ]
  },
  {
   "cell_type": "code",
   "execution_count": 9,
   "id": "a12f9944",
   "metadata": {},
   "outputs": [
    {
     "data": {
      "text/plain": [
       "{'id': 'PID001',\n",
       " 'name': 'Aisha Sharma',\n",
       " 'age': 35,\n",
       " 'gender': 'Female',\n",
       " 'city': 'Mumbai',\n",
       " 'height': 162,\n",
       " 'weight': 75,\n",
       " 'bmi': 28.6,\n",
       " 'verdict': 'Overweight'}"
      ]
     },
     "execution_count": 9,
     "metadata": {},
     "output_type": "execute_result"
    }
   ],
   "source": [
    "search(\"PID001\")"
   ]
  },
  {
   "cell_type": "code",
   "execution_count": null,
   "id": "feede3c4",
   "metadata": {},
   "outputs": [],
   "source": []
  }
 ],
 "metadata": {
  "kernelspec": {
   "display_name": "Python 3",
   "language": "python",
   "name": "python3"
  },
  "language_info": {
   "codemirror_mode": {
    "name": "ipython",
    "version": 3
   },
   "file_extension": ".py",
   "mimetype": "text/x-python",
   "name": "python",
   "nbconvert_exporter": "python",
   "pygments_lexer": "ipython3",
   "version": "3.12.0"
  }
 },
 "nbformat": 4,
 "nbformat_minor": 5
}
